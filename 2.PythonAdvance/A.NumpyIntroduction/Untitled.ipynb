{
 "cells": [
  {
   "cell_type": "code",
   "execution_count": 2,
   "metadata": {},
   "outputs": [],
   "source": [
    "import numpy as np"
   ]
  },
  {
   "cell_type": "code",
   "execution_count": 3,
   "metadata": {},
   "outputs": [
    {
     "data": {
      "text/plain": [
       "array([1, 2, 3])"
      ]
     },
     "execution_count": 3,
     "metadata": {},
     "output_type": "execute_result"
    }
   ],
   "source": [
    "np.array([1,2,3])"
   ]
  },
  {
   "cell_type": "code",
   "execution_count": 4,
   "metadata": {},
   "outputs": [],
   "source": [
    "import numpy"
   ]
  },
  {
   "cell_type": "code",
   "execution_count": 5,
   "metadata": {},
   "outputs": [
    {
     "data": {
      "text/plain": [
       "array([1, 2, 3])"
      ]
     },
     "execution_count": 5,
     "metadata": {},
     "output_type": "execute_result"
    }
   ],
   "source": [
    "numpy.array([1,2,3])"
   ]
  },
  {
   "cell_type": "code",
   "execution_count": 6,
   "metadata": {},
   "outputs": [],
   "source": [
    "import numpy as abhishek"
   ]
  },
  {
   "cell_type": "code",
   "execution_count": 7,
   "metadata": {},
   "outputs": [
    {
     "data": {
      "text/plain": [
       "array([1, 2, 3])"
      ]
     },
     "execution_count": 7,
     "metadata": {},
     "output_type": "execute_result"
    }
   ],
   "source": [
    "abhishek.array([1,2,3])"
   ]
  },
  {
   "cell_type": "code",
   "execution_count": 15,
   "metadata": {},
   "outputs": [],
   "source": [
    "x = [5,1,2]"
   ]
  },
  {
   "cell_type": "code",
   "execution_count": 16,
   "metadata": {},
   "outputs": [],
   "source": [
    "\n",
    "x.sort()"
   ]
  },
  {
   "cell_type": "code",
   "execution_count": 17,
   "metadata": {},
   "outputs": [
    {
     "data": {
      "text/plain": [
       "[1, 2, 5]"
      ]
     },
     "execution_count": 17,
     "metadata": {},
     "output_type": "execute_result"
    }
   ],
   "source": [
    "x"
   ]
  },
  {
   "cell_type": "code",
   "execution_count": 28,
   "metadata": {},
   "outputs": [],
   "source": [
    "n = ['zay','Abhishek', 'Dubey']"
   ]
  },
  {
   "cell_type": "code",
   "execution_count": 29,
   "metadata": {},
   "outputs": [],
   "source": [
    "n.sort()"
   ]
  },
  {
   "cell_type": "code",
   "execution_count": 30,
   "metadata": {},
   "outputs": [
    {
     "data": {
      "text/plain": [
       "['Abhishek', 'Dubey', 'zay']"
      ]
     },
     "execution_count": 30,
     "metadata": {},
     "output_type": "execute_result"
    }
   ],
   "source": [
    "n"
   ]
  },
  {
   "cell_type": "code",
   "execution_count": 36,
   "metadata": {},
   "outputs": [
    {
     "name": "stdout",
     "output_type": "stream",
     "text": [
      "['england', 'india', 'japan']\n",
      "['Japan', 'england', 'india']\n"
     ]
    }
   ],
   "source": [
    "#dount#list#sort#\n",
    "\n",
    "# can we sort list with different data types\n",
    "\n",
    "# Answer : Basically when you sort any list(means values in a list) you compare them on their values.\n",
    "# and you cannot compare an 'integet' with 'character'\n",
    "#ex : you cannot compare 2 and 'Ashish'\n",
    "\n",
    "# To add to that, you can certainly compare character\n",
    "#ex:\n",
    "ch = ['india', 'japan', 'england']\n",
    "ch.sort()\n",
    "print(ch)\n",
    "# output : ['england', 'india', 'japan'] # here the first letters of each country got compared\n",
    "\n",
    "ch2 = ['india', 'Japan', 'england']\n",
    "ch2.sort()\n",
    "print(ch2)\n",
    "# output : ['Japan', 'england', 'india'] # Here what happened is japan got the preference because it is in upper case"
   ]
  },
  {
   "cell_type": "code",
   "execution_count": 41,
   "metadata": {},
   "outputs": [
    {
     "data": {
      "text/plain": [
       "122"
      ]
     },
     "execution_count": 41,
     "metadata": {},
     "output_type": "execute_result"
    }
   ],
   "source": [
    "ord('z')"
   ]
  },
  {
   "cell_type": "code",
   "execution_count": null,
   "metadata": {},
   "outputs": [],
   "source": [
    "\n",
    "Amul milk\n",
    "laptop\n",
    "soap\n",
    "\n",
    "\n",
    "100 gm\n",
    "\n",
    "\n",
    "\n"
   ]
  },
  {
   "cell_type": "code",
   "execution_count": 49,
   "metadata": {},
   "outputs": [
    {
     "name": "stdout",
     "output_type": "stream",
     "text": [
      "The prod is : cadbury Chocolate , the old weight is : 100 gm & the new weight is : 3.5274\n",
      "The prod is : Amul milk , the old weight is : 500 ml & the new weight is : 16.907\n",
      "The prod is : laptop , the old weight is : 2 KG & the new weight is : 70.54\n",
      "The prod is : soap , the old weight is : 1 pound & the new weight is : 16\n"
     ]
    }
   ],
   "source": [
    "products = ['cadbury Chocolate', 'Amul milk', 'laptop', 'soap']\n",
    "weights = ['100 gm', '500 ml', '2 KG', '1 pound']\n",
    "converted_weight = [] # new list to store all the converted weight values\n",
    "for each_weight in weights:\n",
    "    val = int(each_weight.split()[0]) # splitting the weight on 'space' and storing first value to val variable\n",
    "    # have used int(), because after splitting I get string like '100', type casted it to int so that,-\n",
    "    # - I can do multiplication below\n",
    "    uom = each_weight.split()[1] #storing unit of measure(uom) to variable uom\n",
    "    # here is my conversion condition, I googled the conversion between different units to ounce\n",
    "    if uom.lower() == 'kg':\n",
    "        val = val*35.27\n",
    "    if uom.lower() == 'gm':\n",
    "        val = val*0.035274\n",
    "    if uom.lower() == 'pound':\n",
    "        val = val*16\n",
    "    if uom.lower() == 'ml':\n",
    "        val = val*0.033814\n",
    "    converted_weight.append(val) # Note: I have this append() outside of if conditions, - \n",
    "    # - having it inside every if condition will serve the purpose but it is just repetetive.\n",
    "\n",
    "# all the value has been converted, now printing\n",
    "for prod, old_wght, con_wght in zip(products, weights, converted_weight):\n",
    "    print(\"The prod is : {} , the old weight is : {} & the new weight is : {}\".format(prod, old_wght, con_wght))"
   ]
  },
  {
   "cell_type": "code",
   "execution_count": null,
   "metadata": {},
   "outputs": [],
   "source": []
  }
 ],
 "metadata": {
  "kernelspec": {
   "display_name": "Python 3",
   "language": "python",
   "name": "python3"
  },
  "language_info": {
   "codemirror_mode": {
    "name": "ipython",
    "version": 3
   },
   "file_extension": ".py",
   "mimetype": "text/x-python",
   "name": "python",
   "nbconvert_exporter": "python",
   "pygments_lexer": "ipython3",
   "version": "3.6.10"
  }
 },
 "nbformat": 4,
 "nbformat_minor": 2
}
