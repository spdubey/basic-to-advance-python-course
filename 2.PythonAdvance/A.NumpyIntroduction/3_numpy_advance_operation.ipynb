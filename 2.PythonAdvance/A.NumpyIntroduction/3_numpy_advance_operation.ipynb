{
 "cells": [
  {
   "cell_type": "code",
   "execution_count": 1,
   "metadata": {},
   "outputs": [],
   "source": [
    "import pandas as pd\n",
    "import numpy as np"
   ]
  },
  {
   "cell_type": "code",
   "execution_count": 4,
   "metadata": {},
   "outputs": [
    {
     "name": "stdout",
     "output_type": "stream",
     "text": [
      "['Attack', 'Defense', 'Speed', 'Generation']\n"
     ]
    }
   ],
   "source": [
    "column_names = ['Attack', 'Defense', 'Speed', 'Generation']\n",
    "print(column_names)"
   ]
  },
  {
   "cell_type": "code",
   "execution_count": null,
   "metadata": {},
   "outputs": [],
   "source": []
  },
  {
   "cell_type": "code",
   "execution_count": 3,
   "metadata": {},
   "outputs": [],
   "source": [
    "pokemon_data = np.genfromtxt('file.csv', delimiter=',', dtype='float', usecols=[0,1,2,3])"
   ]
  },
  {
   "cell_type": "code",
   "execution_count": 4,
   "metadata": {},
   "outputs": [
    {
     "data": {
      "text/plain": [
       "array([[ nan,  49.,  45.,   3.],\n",
       "       [ 62.,  63.,  nan,   1.],\n",
       "       [ 82.,  83.,  80.,   1.],\n",
       "       [100., 123.,  80.,   1.],\n",
       "       [ 52.,  43.,  65.,   2.],\n",
       "       [ 64.,  58.,  nan,   1.],\n",
       "       [ 84.,  78., 100.,   2.],\n",
       "       [130., 111., 100.,   1.],\n",
       "       [104.,  78., 100.,   3.],\n",
       "       [ 48.,  65.,  43.,   1.],\n",
       "       [ 63.,  80.,  58.,   2.],\n",
       "       [ 83., 100.,  78.,   1.],\n",
       "       [103., 120.,  78.,   1.],\n",
       "       [ 30.,  35.,  nan,   1.],\n",
       "       [ 20.,  55.,  30.,   3.],\n",
       "       [ 45.,  50.,  70.,   1.]])"
      ]
     },
     "execution_count": 4,
     "metadata": {},
     "output_type": "execute_result"
    }
   ],
   "source": [
    "pokemon_data"
   ]
  },
  {
   "cell_type": "code",
   "execution_count": null,
   "metadata": {},
   "outputs": [],
   "source": []
  },
  {
   "cell_type": "code",
   "execution_count": 6,
   "metadata": {},
   "outputs": [
    {
     "data": {
      "text/plain": [
       "[1, 23, 4, 5, 6, 7, 8]"
      ]
     },
     "execution_count": 6,
     "metadata": {},
     "output_type": "execute_result"
    }
   ],
   "source": [
    "a = [1,23,4,5,6,7,8]\n",
    "a[:]"
   ]
  },
  {
   "cell_type": "code",
   "execution_count": 7,
   "metadata": {},
   "outputs": [
    {
     "data": {
      "text/plain": [
       "array([ 45.,  nan,  80.,  80.,  65.,  nan, 100., 100., 100.,  43.,  58.,\n",
       "        78.,  78.,  nan,  30.,  70.])"
      ]
     },
     "execution_count": 7,
     "metadata": {},
     "output_type": "execute_result"
    }
   ],
   "source": [
    "# Look at the 'speed' column\n",
    "pokemon_data[:,2]"
   ]
  },
  {
   "cell_type": "markdown",
   "metadata": {},
   "source": [
    "###  1) Lets check null/nan/missing value"
   ]
  },
  {
   "cell_type": "code",
   "execution_count": 9,
   "metadata": {},
   "outputs": [
    {
     "data": {
      "text/plain": [
       "array([False,  True, False, False, False,  True, False, False, False,\n",
       "       False, False, False, False,  True, False, False])"
      ]
     },
     "execution_count": 9,
     "metadata": {},
     "output_type": "execute_result"
    }
   ],
   "source": [
    "np.isnan(pokemon_data[:,2])"
   ]
  },
  {
   "cell_type": "code",
   "execution_count": 14,
   "metadata": {},
   "outputs": [
    {
     "data": {
      "text/plain": [
       "array([ 45.,  nan,  80.,  80.,  65.,  nan, 100., 100., 100.,  43.,  58.,\n",
       "        78.,  78.,  nan,  30.,  70.])"
      ]
     },
     "execution_count": 14,
     "metadata": {},
     "output_type": "execute_result"
    }
   ],
   "source": [
    "pokemon_data[:,2]"
   ]
  },
  {
   "cell_type": "code",
   "execution_count": 17,
   "metadata": {},
   "outputs": [
    {
     "data": {
      "text/plain": [
       "(array([0, 2], dtype=int64),)"
      ]
     },
     "execution_count": 17,
     "metadata": {},
     "output_type": "execute_result"
    }
   ],
   "source": [
    "np.where([True, False, True])"
   ]
  },
  {
   "cell_type": "code",
   "execution_count": 25,
   "metadata": {},
   "outputs": [
    {
     "name": "stdout",
     "output_type": "stream",
     "text": [
      "[False  True False  True False  True]\n"
     ]
    },
    {
     "data": {
      "text/plain": [
       "(array([1, 3, 5], dtype=int64),)"
      ]
     },
     "execution_count": 25,
     "metadata": {},
     "output_type": "execute_result"
    }
   ],
   "source": [
    "x = [1,np.nan,3,np.nan,5,np.nan]\n",
    "a = np.isnan([100,np.nan,300,np.nan,566,np.nan])\n",
    "print(a)\n",
    "b = np.where(np.isnan([1,np.nan,3,np.nan,5,np.nan]))\n",
    "b\n"
   ]
  },
  {
   "cell_type": "code",
   "execution_count": 19,
   "metadata": {},
   "outputs": [
    {
     "name": "stdout",
     "output_type": "stream",
     "text": [
      "Number of missing values:  3\n",
      "Position of missing values:  (array([ 1,  5, 13], dtype=int64),)\n"
     ]
    },
    {
     "data": {
      "text/plain": [
       "array([False, False, False,  True])"
      ]
     },
     "execution_count": 19,
     "metadata": {},
     "output_type": "execute_result"
    }
   ],
   "source": [
    "\n",
    "\n",
    "# Solution\n",
    "print(\"Number of missing values: \", np.isnan(pokemon_data[:, 2]).sum())\n",
    "print(\"Position of missing values: \", np.where(np.isnan(pokemon_data[:, 2])))\n",
    "\n",
    "\n",
    "#explaining\n",
    "np.isnan([1,2,3,np.nan])"
   ]
  },
  {
   "cell_type": "markdown",
   "metadata": {},
   "source": [
    "### 2) How to filter a numpy array based on two or more conditions?"
   ]
  },
  {
   "cell_type": "code",
   "execution_count": 20,
   "metadata": {},
   "outputs": [
    {
     "name": "stdout",
     "output_type": "stream",
     "text": [
      "Names of the columns of pokemon data :  ['Attack', 'Defense', 'Speed', 'Generation']\n",
      "[[ nan  49.  45.   3.]\n",
      " [ 62.  63.  nan   1.]\n",
      " [ 82.  83.  80.   1.]\n",
      " [100. 123.  80.   1.]\n",
      " [ 52.  43.  65.   2.]\n",
      " [ 64.  58.  nan   1.]\n",
      " [ 84.  78. 100.   2.]\n",
      " [130. 111. 100.   1.]\n",
      " [104.  78. 100.   3.]\n",
      " [ 48.  65.  43.   1.]\n",
      " [ 63.  80.  58.   2.]\n",
      " [ 83. 100.  78.   1.]\n",
      " [103. 120.  78.   1.]\n",
      " [ 30.  35.  nan   1.]\n",
      " [ 20.  55.  30.   3.]\n",
      " [ 45.  50.  70.   1.]]\n"
     ]
    }
   ],
   "source": [
    "print(\"Names of the columns of pokemon data : \", column_names)\n",
    "print(pokemon_data)"
   ]
  },
  {
   "cell_type": "code",
   "execution_count": 10,
   "metadata": {},
   "outputs": [
    {
     "name": "stdout",
     "output_type": "stream",
     "text": [
      "[False  True  True  True False  True  True  True  True False  True  True\n",
      "  True False False False]\n"
     ]
    },
    {
     "name": "stderr",
     "output_type": "stream",
     "text": [
      "C:\\ProgramData\\Anaconda3\\lib\\site-packages\\ipykernel_launcher.py:2: RuntimeWarning: invalid value encountered in greater\n",
      "  \n"
     ]
    },
    {
     "data": {
      "text/plain": [
       "array([[ 62.,  63.,  nan,   1.],\n",
       "       [ 82.,  83.,  80.,   1.],\n",
       "       [100., 123.,  80.,   1.],\n",
       "       [ 64.,  58.,  nan,   1.],\n",
       "       [ 84.,  78., 100.,   2.],\n",
       "       [130., 111., 100.,   1.],\n",
       "       [104.,  78., 100.,   3.],\n",
       "       [ 63.,  80.,  58.,   2.],\n",
       "       [ 83., 100.,  78.,   1.],\n",
       "       [103., 120.,  78.,   1.]])"
      ]
     },
     "execution_count": 10,
     "metadata": {},
     "output_type": "execute_result"
    }
   ],
   "source": [
    "# Solution\n",
    "condition = (pokemon_data[:, 0] > 50) & (pokemon_data[:, 1] > 50)\n",
    "print(condition)\n",
    "pokemon_data[condition]"
   ]
  },
  {
   "cell_type": "markdown",
   "metadata": {},
   "source": [
    "### 3) How to drop rows that contain a missing value from a numpy array?"
   ]
  },
  {
   "cell_type": "code",
   "execution_count": 8,
   "metadata": {},
   "outputs": [
    {
     "data": {
      "text/plain": [
       "array([[ nan,  49.,  45.,   3.],\n",
       "       [ 62.,  63.,  nan,   1.],\n",
       "       [ 82.,  83.,  80.,   1.],\n",
       "       [100., 123.,  80.,   1.],\n",
       "       [ 52.,  43.,  65.,   2.],\n",
       "       [ 64.,  58.,  nan,   1.],\n",
       "       [ 84.,  78., 100.,   2.],\n",
       "       [130., 111., 100.,   1.],\n",
       "       [104.,  78., 100.,   3.],\n",
       "       [ 48.,  65.,  43.,   1.],\n",
       "       [ 63.,  80.,  58.,   2.],\n",
       "       [ 83., 100.,  78.,   1.],\n",
       "       [103., 120.,  78.,   1.],\n",
       "       [ 30.,  35.,  nan,   1.],\n",
       "       [ 20.,  55.,  30.,   3.],\n",
       "       [ 45.,  50.,  70.,   1.]])"
      ]
     },
     "execution_count": 8,
     "metadata": {},
     "output_type": "execute_result"
    }
   ],
   "source": [
    "pokemon_data"
   ]
  },
  {
   "cell_type": "code",
   "execution_count": null,
   "metadata": {},
   "outputs": [],
   "source": []
  },
  {
   "cell_type": "code",
   "execution_count": 31,
   "metadata": {},
   "outputs": [
    {
     "data": {
      "text/plain": [
       "False"
      ]
     },
     "execution_count": 31,
     "metadata": {},
     "output_type": "execute_result"
    }
   ],
   "source": [
    "np.isnan([ 4,  55]).any()"
   ]
  },
  {
   "cell_type": "code",
   "execution_count": 22,
   "metadata": {},
   "outputs": [],
   "source": [
    "# Note : there is no direct function for this in numpy\n",
    "# Hence, Pandas = for data read, data cleaning, data manipulation, data saving \n",
    "# and numpy = scientific calculation\n",
    "mask = []\n",
    "for row in pokemon_data:\n",
    "    #print(\"value of each row : \", row)\n",
    "    #print(\"value after checking np.isnan() : \", np.isnan(row)) # gives a boolean value on element's place  True = if missing, False = not missing\n",
    "    #print(\"value after using np.any() on np.isnan() : \", np.any(np.isnan(row)))\n",
    "    if np.isnan(row).any():\n",
    "        mask.append(False)\n",
    "    else:\n",
    "        mask.append(True)\n",
    "    #print(row)\n",
    "#print(mask)\n",
    "#np.where(mask)"
   ]
  },
  {
   "cell_type": "code",
   "execution_count": 34,
   "metadata": {},
   "outputs": [],
   "source": [
    "# Note : there is no direct function for this in numpy\n",
    "# Hence, Pandas = for data read, data cleaning, data manipulation, data saving \n",
    "# and numpy = scientific calculation\n",
    "mask = []\n",
    "for row in pokemon_data:\n",
    "    #print(row)\n",
    "    checker = np.isnan(row).any()\n",
    "    if checker:\n",
    "        mask.append(False)\n",
    "    else:\n",
    "        mask.append(True)\n"
   ]
  },
  {
   "cell_type": "code",
   "execution_count": 35,
   "metadata": {},
   "outputs": [
    {
     "data": {
      "text/plain": [
       "[False,\n",
       " False,\n",
       " True,\n",
       " True,\n",
       " True,\n",
       " False,\n",
       " True,\n",
       " True,\n",
       " True,\n",
       " True,\n",
       " True,\n",
       " True,\n",
       " True,\n",
       " False,\n",
       " True,\n",
       " True]"
      ]
     },
     "execution_count": 35,
     "metadata": {},
     "output_type": "execute_result"
    }
   ],
   "source": [
    "mask"
   ]
  },
  {
   "cell_type": "code",
   "execution_count": 23,
   "metadata": {},
   "outputs": [
    {
     "name": "stdout",
     "output_type": "stream",
     "text": [
      "[[ 82.  83.  80.   1.]\n",
      " [100. 123.  80.   1.]\n",
      " [ 52.  43.  65.   2.]\n",
      " [ 84.  78. 100.   2.]\n",
      " [130. 111. 100.   1.]\n",
      " [104.  78. 100.   3.]\n",
      " [ 48.  65.  43.   1.]\n",
      " [ 63.  80.  58.   2.]\n",
      " [ 83. 100.  78.   1.]\n",
      " [103. 120.  78.   1.]\n",
      " [ 20.  55.  30.   3.]\n",
      " [ 45.  50.  70.   1.]]\n"
     ]
    }
   ],
   "source": [
    "non_null_pokemon_data = pokemon_data[mask]\n",
    "print(non_null_pokemon_data)"
   ]
  },
  {
   "cell_type": "code",
   "execution_count": 36,
   "metadata": {},
   "outputs": [
    {
     "data": {
      "text/plain": [
       "array([ 2,  6, 10])"
      ]
     },
     "execution_count": 36,
     "metadata": {},
     "output_type": "execute_result"
    }
   ],
   "source": [
    "dummy = np.array([2,4,6,8,10])\n",
    "mask = [True, False, True, False, True]\n",
    "dummy[mask]"
   ]
  },
  {
   "cell_type": "markdown",
   "metadata": {},
   "source": [
    "### 4) How to find the correlation between two columns of a numpy array?"
   ]
  },
  {
   "cell_type": "code",
   "execution_count": 25,
   "metadata": {},
   "outputs": [
    {
     "data": {
      "text/plain": [
       "array([[1.        , 0.85846985],\n",
       "       [0.85846985, 1.        ]])"
      ]
     },
     "execution_count": 25,
     "metadata": {},
     "output_type": "execute_result"
    }
   ],
   "source": [
    "np.corrcoef(non_null_pokemon_data[:, 0], non_null_pokemon_data[:, 2])"
   ]
  },
  {
   "cell_type": "code",
   "execution_count": 24,
   "metadata": {},
   "outputs": [
    {
     "data": {
      "text/plain": [
       "0.858"
      ]
     },
     "execution_count": 24,
     "metadata": {},
     "output_type": "execute_result"
    }
   ],
   "source": [
    "coeff = np.corrcoef(non_null_pokemon_data[:, 0], non_null_pokemon_data[:, 2])[0,1]\n",
    "# also show round()\n",
    "round(coeff,3)\n"
   ]
  },
  {
   "cell_type": "code",
   "execution_count": 21,
   "metadata": {},
   "outputs": [
    {
     "data": {
      "text/plain": [
       "0.8584698498875397"
      ]
     },
     "execution_count": 21,
     "metadata": {},
     "output_type": "execute_result"
    }
   ],
   "source": [
    "coeff"
   ]
  },
  {
   "cell_type": "code",
   "execution_count": null,
   "metadata": {},
   "outputs": [],
   "source": []
  },
  {
   "cell_type": "code",
   "execution_count": null,
   "metadata": {},
   "outputs": [],
   "source": []
  },
  {
   "cell_type": "code",
   "execution_count": 31,
   "metadata": {},
   "outputs": [],
   "source": [
    "a = np.array([1,2,3,np.nan])"
   ]
  },
  {
   "cell_type": "code",
   "execution_count": 32,
   "metadata": {},
   "outputs": [
    {
     "data": {
      "text/plain": [
       "array([ 1.,  2.,  3., nan])"
      ]
     },
     "execution_count": 32,
     "metadata": {},
     "output_type": "execute_result"
    }
   ],
   "source": [
    "a"
   ]
  },
  {
   "cell_type": "code",
   "execution_count": 35,
   "metadata": {},
   "outputs": [],
   "source": [
    "ind = np.where(np.isnan(a))"
   ]
  },
  {
   "cell_type": "code",
   "execution_count": 37,
   "metadata": {},
   "outputs": [],
   "source": [
    "a[ind] = 99"
   ]
  },
  {
   "cell_type": "code",
   "execution_count": 38,
   "metadata": {},
   "outputs": [
    {
     "data": {
      "text/plain": [
       "array([ 1.,  2.,  3., 99.])"
      ]
     },
     "execution_count": 38,
     "metadata": {},
     "output_type": "execute_result"
    }
   ],
   "source": [
    "a"
   ]
  },
  {
   "cell_type": "code",
   "execution_count": null,
   "metadata": {},
   "outputs": [],
   "source": []
  }
 ],
 "metadata": {
  "kernelspec": {
   "display_name": "Python 3",
   "language": "python",
   "name": "python3"
  },
  "language_info": {
   "codemirror_mode": {
    "name": "ipython",
    "version": 3
   },
   "file_extension": ".py",
   "mimetype": "text/x-python",
   "name": "python",
   "nbconvert_exporter": "python",
   "pygments_lexer": "ipython3",
   "version": "3.6.10"
  }
 },
 "nbformat": 4,
 "nbformat_minor": 2
}
