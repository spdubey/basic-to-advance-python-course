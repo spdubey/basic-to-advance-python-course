{
 "cells": [
  {
   "cell_type": "markdown",
   "metadata": {},
   "source": [
    "# Prime number example"
   ]
  },
  {
   "cell_type": "code",
   "execution_count": 3,
   "metadata": {},
   "outputs": [
    {
     "name": "stdout",
     "output_type": "stream",
     "text": [
      "prime\n"
     ]
    }
   ],
   "source": [
    "def isprime(num):\n",
    "    prime = False\n",
    "    for i in range(2,num):\n",
    "        if num%i == 0:\n",
    "            prime = True\n",
    "    if prime:\n",
    "        return \"not prime\"\n",
    "    else:\n",
    "        return \"prime\"\n",
    "print(isprime(37))"
   ]
  },
  {
   "cell_type": "code",
   "execution_count": 4,
   "metadata": {},
   "outputs": [
    {
     "name": "stdout",
     "output_type": "stream",
     "text": [
      "prime\n"
     ]
    }
   ],
   "source": [
    "def ISPRIME(num):\n",
    "    if all([num%elem for elem in range(2,num)]):\n",
    "        print(\"prime\")\n",
    "    else:\n",
    "        print(\"not prime\")\n",
    "ISPRIME(17)"
   ]
  },
  {
   "cell_type": "markdown",
   "metadata": {},
   "source": [
    "# Regex example"
   ]
  },
  {
   "cell_type": "code",
   "execution_count": 5,
   "metadata": {},
   "outputs": [
    {
     "name": "stdout",
     "output_type": "stream",
     "text": [
      " Binita Sajit Sat, Nov 10, 2018 5:44 PM\n",
      " Aegis Class Sat, Nov 10, 2018 4:37 PM\n",
      " Bhavik Gandhi Thu, Nov 1, 2018 11:16 PM\n",
      " Binita Sajit Tue, Oct 30, 2018 10:45 AM\n"
     ]
    }
   ],
   "source": [
    "import re\n",
    "with open('string_example.txt','r') as file:\n",
    "    x = file.read()\n",
    "lis = x.split('\\n')\n",
    "for line in lis:\n",
    "    exp = re.findall('((PM)|(AM))(\\s\\w*\\s\\w*)',line)\n",
    "    name = exp[0][3]\n",
    "    exp = re.findall('On\\s\\w*',line)\n",
    "    day = exp[0].split(' ')[1]\n",
    "    exp = re.findall('(,\\s)(\\w*\\s\\d*,\\s\\d*)',line)\n",
    "    date = exp[0][1]\n",
    "    exp = re.findall('\\s\\d*:\\d*', line)\n",
    "    time = exp[0].strip()\n",
    "    exp = re.findall('AM|PM', line)\n",
    "    time_zone = exp[0]\n",
    "    print('{} {}, {} {} {}'.format(name,day,date,time,time_zone))"
   ]
  },
  {
   "cell_type": "code",
   "execution_count": null,
   "metadata": {},
   "outputs": [],
   "source": []
  }
 ],
 "metadata": {
  "kernelspec": {
   "display_name": "Python 3",
   "language": "python",
   "name": "python3"
  },
  "language_info": {
   "codemirror_mode": {
    "name": "ipython",
    "version": 3
   },
   "file_extension": ".py",
   "mimetype": "text/x-python",
   "name": "python",
   "nbconvert_exporter": "python",
   "pygments_lexer": "ipython3",
   "version": "3.7.6"
  }
 },
 "nbformat": 4,
 "nbformat_minor": 2
}
